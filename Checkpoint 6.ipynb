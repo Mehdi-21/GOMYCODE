{
 "cells": [
  {
   "cell_type": "code",
   "execution_count": 4,
   "id": "8b5b1c7b",
   "metadata": {},
   "outputs": [
    {
     "name": "stdout",
     "output_type": "stream",
     "text": [
      "[1, 2, 3]\n"
     ]
    }
   ],
   "source": [
    "import numpy as np\n",
    "arr = np.array([1, 2, 3])\n",
    "list = arr.tolist()\n",
    "print(list)"
   ]
  },
  {
   "cell_type": "code",
   "execution_count": 24,
   "id": "1350d340",
   "metadata": {},
   "outputs": [
    {
     "name": "stdout",
     "output_type": "stream",
     "text": [
      "12.0\n"
     ]
    }
   ],
   "source": [
    "import numpy as np\n",
    "arr1 =np.array([[0,1,2],[3,4,5],[6,7,8]], dtype=np.float64)\n",
    "diag = arr1.trace()\n",
    "print(diag)"
   ]
  },
  {
   "cell_type": "code",
   "execution_count": 61,
   "id": "cc08ecc2",
   "metadata": {},
   "outputs": [
    {
     "name": "stdout",
     "output_type": "stream",
     "text": [
      "4\n",
      "5\n",
      "6\n",
      "7\n"
     ]
    }
   ],
   "source": [
    "import numpy as np\n",
    "arr2 = np.array([[2,3,4],[5,6,7]])\n",
    "x = 3\n",
    "list2 = arr2.tolist()\n",
    "for num in list2:\n",
    "    for j in num:\n",
    "        if j>x:\n",
    "            print(j)\n"
   ]
  },
  {
   "cell_type": "code",
   "execution_count": 66,
   "id": "734b5c4a",
   "metadata": {},
   "outputs": [
    {
     "name": "stdout",
     "output_type": "stream",
     "text": [
      "[[3 3]\n",
      " [3 3]]\n"
     ]
    }
   ],
   "source": [
    "import numpy as np\n",
    "first = np.array([[1,1],[1,1]])\n",
    "second = np.array([[2,2],[2,2]])\n",
    "c =np.sum([first, second], axis=0)\n",
    "print(c)"
   ]
  },
  {
   "cell_type": "code",
   "execution_count": 72,
   "id": "5f72cde9",
   "metadata": {},
   "outputs": [
    {
     "name": "stdout",
     "output_type": "stream",
     "text": [
      "[3 4 3 4]\n",
      "3.5\n",
      "0.5\n",
      "[4 4 4 3]\n",
      "3.75\n",
      "-0.75\n"
     ]
    }
   ],
   "source": [
    "a= np.random.randint(3,6,size=(2,4))\n",
    "for i in a:\n",
    "    print(i)\n",
    "    b=i.mean()\n",
    "    print(b)\n",
    "    for j in i:\n",
    "        c=j-b\n",
    "    print(c)"
   ]
  },
  {
   "cell_type": "code",
   "execution_count": null,
   "id": "286bb27f",
   "metadata": {},
   "outputs": [],
   "source": []
  }
 ],
 "metadata": {
  "kernelspec": {
   "display_name": "Python 3",
   "language": "python",
   "name": "python3"
  },
  "language_info": {
   "codemirror_mode": {
    "name": "ipython",
    "version": 3
   },
   "file_extension": ".py",
   "mimetype": "text/x-python",
   "name": "python",
   "nbconvert_exporter": "python",
   "pygments_lexer": "ipython3",
   "version": "3.8.8"
  }
 },
 "nbformat": 4,
 "nbformat_minor": 5
}
