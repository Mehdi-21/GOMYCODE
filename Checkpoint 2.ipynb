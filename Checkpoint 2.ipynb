{
 "cells": [
  {
   "cell_type": "code",
   "execution_count": 1,
   "id": "7eeeb662",
   "metadata": {},
   "outputs": [
    {
     "name": "stdout",
     "output_type": "stream",
     "text": [
      "Type your first nameMehdi\n",
      "Type your last nameElayeb\n",
      "Elayeb Mehdi\n"
     ]
    }
   ],
   "source": [
    "Firstname = input(\"Type your first name\")\n",
    "Lastname = input(\"Type your last name\")\n",
    "\n",
    "Reversedname = Lastname + \" \" + Firstname\n",
    "print(Reversedname)"
   ]
  },
  {
   "cell_type": "code",
   "execution_count": 1,
   "id": "bbba82f4",
   "metadata": {},
   "outputs": [
    {
     "name": "stdout",
     "output_type": "stream",
     "text": [
      "Insert Number5\n",
      "5 + 55 + 555\n",
      "Sum is : 615\n"
     ]
    }
   ],
   "source": [
    "n =input(\"Insert Number\")\n",
    "n =int(n)\n",
    "print(n,\"+\",(n*11),\"+\",(n*111))\n",
    "val1= n\n",
    "val2= n*11\n",
    "val3= n*111\n",
    "print(\"Sum is :\",val1+val2+val3)"
   ]
  },
  {
   "cell_type": "code",
   "execution_count": 2,
   "id": "fc3ece5d",
   "metadata": {},
   "outputs": [
    {
     "name": "stdout",
     "output_type": "stream",
     "text": [
      "Insert a number6\n",
      "Number is even\n"
     ]
    }
   ],
   "source": [
    "n = input(\"Insert a number\")\n",
    "n = int(n)\n",
    "if n%2 == 0:\n",
    "    print(\"Number is even\")\n",
    "else:\n",
    "    print(\"Number is odd\")"
   ]
  },
  {
   "cell_type": "code",
   "execution_count": 3,
   "id": "3f920c7c",
   "metadata": {},
   "outputs": [
    {
     "name": "stdout",
     "output_type": "stream",
     "text": [
      "2002 2009 2016 2023 2037 2044 2051 2058 2072 2079 2086 2093 2107 2114 2121 2128 2142 2149 2156 2163 2177 2184 2191 2198 2212 2219 2226 2233 2247 2254 2261 2268 2282 2289 2296 2303 2317 2324 2331 2338 2352 2359 2366 2373 2387 2394 2401 2408 2422 2429 2436 2443 2457 2464 2471 2478 2492 2499 2506 2513 2527 2534 2541 2548 2562 2569 2576 2583 2597 2604 2611 2618 2632 2639 2646 2653 2667 2674 2681 2688 2702 2709 2716 2723 2737 2744 2751 2758 2772 2779 2786 2793 2807 2814 2821 2828 2842 2849 2856 2863 2877 2884 2891 2898 2912 2919 2926 2933 2947 2954 2961 2968 2982 2989 2996 3003 3017 3024 3031 3038 3052 3059 3066 3073 3087 3094 3101 3108 3122 3129 3136 3143 3157 3164 3171 3178 3192 3199 "
     ]
    }
   ],
   "source": [
    "for x in range(2000,3201):\n",
    "    \n",
    "    if x%7 == 0 and x%5 > 0:\n",
    "        print(x,end=' ')"
   ]
  },
  {
   "cell_type": "code",
   "execution_count": 4,
   "id": "31eb8f52",
   "metadata": {},
   "outputs": [
    {
     "name": "stdout",
     "output_type": "stream",
     "text": [
      "Type a number8\n",
      "40320\n"
     ]
    }
   ],
   "source": [
    "n =input(\"Type a number\")\n",
    "n =int(n)\n",
    "import math\n",
    "print(math.factorial(n))"
   ]
  },
  {
   "cell_type": "code",
   "execution_count": 6,
   "id": "9c3ff15d",
   "metadata": {},
   "outputs": [
    {
     "name": "stdout",
     "output_type": "stream",
     "text": [
      "type a wordhello team\n",
      "hlota\n"
     ]
    }
   ],
   "source": [
    "word = input(\"type a word\")\n",
    "new_word=word[::2]\n",
    "print(new_word)"
   ]
  },
  {
   "cell_type": "code",
   "execution_count": 7,
   "id": "09c95786",
   "metadata": {},
   "outputs": [
    {
     "name": "stdout",
     "output_type": "stream",
     "text": [
      "Enter a value500\n",
      "250.0\n"
     ]
    }
   ],
   "source": [
    "price = input(\"Enter a value\")\n",
    "price = float(price)\n",
    "if price >=500 :\n",
    "    price = (price*(0.5))\n",
    "    print(price)\n",
    "elif  200<=price<500:\n",
    "    price = (price*(0.7))\n",
    "    print(price)\n",
    "elif price<200:\n",
    "    price = (price*(0.9))\n",
    "    print(price)"
   ]
  },
  {
   "cell_type": "code",
   "execution_count": null,
   "id": "be5f166d",
   "metadata": {},
   "outputs": [],
   "source": []
  }
 ],
 "metadata": {
  "kernelspec": {
   "display_name": "Python 3",
   "language": "python",
   "name": "python3"
  },
  "language_info": {
   "codemirror_mode": {
    "name": "ipython",
    "version": 3
   },
   "file_extension": ".py",
   "mimetype": "text/x-python",
   "name": "python",
   "nbconvert_exporter": "python",
   "pygments_lexer": "ipython3",
   "version": "3.8.8"
  }
 },
 "nbformat": 4,
 "nbformat_minor": 5
}
