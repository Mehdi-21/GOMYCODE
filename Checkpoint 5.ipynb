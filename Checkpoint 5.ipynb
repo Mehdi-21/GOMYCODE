{
 "cells": [
  {
   "cell_type": "code",
   "execution_count": 1,
   "id": "f3d492ae",
   "metadata": {},
   "outputs": [
    {
     "name": "stdout",
     "output_type": "stream",
     "text": [
      "x=1,y=2,z=3\n"
     ]
    }
   ],
   "source": [
    "class Point3D:\n",
    "    def __init__(self,x,y,z):\n",
    "        self.x = x\n",
    "        self.y = y\n",
    "        self.z = z\n",
    "    def poi(self):\n",
    "        return \"x={},y={},z={}\".format(self.x,self.y,self.z)\n",
    "my_point = Point3D (1,2,3)\n",
    "x=my_point.poi()\n",
    "print(x)"
   ]
  },
  {
   "cell_type": "code",
   "execution_count": 2,
   "id": "fcf9173b",
   "metadata": {},
   "outputs": [
    {
     "name": "stdout",
     "output_type": "stream",
     "text": [
      "perimeter is 14\n",
      "area is 12\n"
     ]
    }
   ],
   "source": [
    "class Rectangle:\n",
    "    def __init__(self,x,y):\n",
    "        self.x = x\n",
    "        self.y = y\n",
    "    def perim(self):\n",
    "        return 2*(self.x+self.y)\n",
    "    def area(self):\n",
    "        return self.x*self.y\n",
    "r = Rectangle (3,4)\n",
    "p=r.perim()\n",
    "print(\"perimeter is\",p)\n",
    "   \n",
    "a=r.area()\n",
    "print(\"area is\",a)"
   ]
  },
  {
   "cell_type": "code",
   "execution_count": 3,
   "id": "16d3762f",
   "metadata": {},
   "outputs": [
    {
     "name": "stdout",
     "output_type": "stream",
     "text": [
      "x du point a20\n",
      "y du point a20\n",
      "x du point o30\n",
      "y du point o30\n",
      "Enter the Circle's Radius20\n",
      "Area is : 1257 the perimeter is : 126 And the Point A belongs to the circle\n"
     ]
    }
   ],
   "source": [
    "from math import pi\n",
    "from math import sqrt\n",
    "x = int(input(\"x du point a\"))\n",
    "y = int(input(\"y du point a\"))\n",
    "X = int(input(\"x du point o\"))\n",
    "Y = int(input(\"y du point o\"))\n",
    "coo_a=(x,y)\n",
    "coo_b=(X,Y)\n",
    "radius = int(input(\"Enter the Circle's Radius\"))\n",
    "class Circle:\n",
    "    def __init__(self,o,r):\n",
    "        self.r= radius\n",
    "        self.o= o\n",
    "    def perim(self):\n",
    "        return 2*pi*self.r\n",
    "    def area(self):\n",
    "        return pi*self.r**2\n",
    "    def isInside(self,a):\n",
    "        d= sqrt((x-X)**2+(y-Y)**2)\n",
    "        if radius>=d:\n",
    "            return(\"belongs to the circle\")\n",
    "        else:\n",
    "            return(\"does not belong to the circle\")\n",
    "\n",
    "a=Circle(coo_b,radius)\n",
    "A=a.area()\n",
    "b=a.perim()\n",
    "B=a.isInside(coo_a)\n",
    "print(\"Area is :\",round(A),\"the perimeter is :\",round(b),\"And the Point A\",(B))"
   ]
  },
  {
   "cell_type": "code",
   "execution_count": 7,
   "id": "3392916e",
   "metadata": {},
   "outputs": [
    {
     "name": "stdout",
     "output_type": "stream",
     "text": [
      "Account Created.\n",
      "Enter how much you want to deposit:500\n",
      "New Balance =500\n",
      "Enter how much you want to withdraw:200\n",
      "Remaining Balance =300\n"
     ]
    }
   ],
   "source": [
    "class Bank:\n",
    "    def __init__(self):\n",
    "        self.balance=0\n",
    "        print('Account Created.')\n",
    "    def deposit(self):\n",
    "        amount=int(input('Enter how much you want to deposit:'))\n",
    "        self.balance+=amount\n",
    "        print('New Balance =%d' %self.balance)\n",
    "    def withdraw(self):\n",
    "        amount=int(input('Enter how much you want to withdraw:'))\n",
    "        if(amount>self.balance):\n",
    "            print('Insufficient Balance')\n",
    "        else:\n",
    "                    self.balance-=amount\n",
    "                    print('Remaining Balance =%d' %self.balance)\n",
    "    \n",
    "bank= Bank()\n",
    "bank.deposit()\n",
    "bank.withdraw()"
   ]
  },
  {
   "cell_type": "code",
   "execution_count": null,
   "id": "96dd0b04",
   "metadata": {},
   "outputs": [],
   "source": []
  }
 ],
 "metadata": {
  "kernelspec": {
   "display_name": "Python 3",
   "language": "python",
   "name": "python3"
  },
  "language_info": {
   "codemirror_mode": {
    "name": "ipython",
    "version": 3
   },
   "file_extension": ".py",
   "mimetype": "text/x-python",
   "name": "python",
   "nbconvert_exporter": "python",
   "pygments_lexer": "ipython3",
   "version": "3.8.8"
  }
 },
 "nbformat": 4,
 "nbformat_minor": 5
}
