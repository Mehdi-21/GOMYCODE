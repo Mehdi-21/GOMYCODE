{
 "cells": [
  {
   "cell_type": "code",
   "execution_count": 1,
   "id": "be044f66",
   "metadata": {},
   "outputs": [
    {
     "name": "stdout",
     "output_type": "stream",
     "text": [
      "36\n"
     ]
    }
   ],
   "source": [
    "l=[2,3,6]\n",
    "Produit=1\n",
    "for value in l :\n",
    "    Produit = (Produit*value)\n",
    "\n",
    "print(Produit)"
   ]
  },
  {
   "cell_type": "code",
   "execution_count": 1,
   "id": "55b61f17",
   "metadata": {},
   "outputs": [
    {
     "name": "stdout",
     "output_type": "stream",
     "text": [
      "[(2, 1), (1, 2), (2, 3), (4, 4), (2, 5)]\n"
     ]
    }
   ],
   "source": [
    "from operator import itemgetter\n",
    "li = [(2, 5), (1, 2), (4, 4), (2, 3), (2, 1)]\n",
    "sor_li = sorted(li ,  key=itemgetter(1))\n",
    "print(sor_li)"
   ]
  },
  {
   "cell_type": "code",
   "execution_count": 2,
   "id": "4fa0698d",
   "metadata": {},
   "outputs": [
    {
     "name": "stdout",
     "output_type": "stream",
     "text": [
      "Counter({'a': 400, 'b': 400, 'd': 400, 'c': 300})\n"
     ]
    }
   ],
   "source": [
    "from collections import Counter\n",
    "dic1 ={'a': 100, 'b': 200, 'c':300}\n",
    "dic2 ={'a': 300, 'b': 200, 'd':400}\n",
    "dic3 = Counter(dic1) + Counter(dic2)\n",
    "print(dic3)"
   ]
  },
  {
   "cell_type": "code",
   "execution_count": 3,
   "id": "5c3548c3",
   "metadata": {},
   "outputs": [
    {
     "name": "stdout",
     "output_type": "stream",
     "text": [
      "Type a number8\n",
      "{1: 1, 2: 4, 3: 9, 4: 16, 5: 25, 6: 36, 7: 49, 8: 64}\n"
     ]
    }
   ],
   "source": [
    "number = input(\"Type a number\")\n",
    "number = int(number)\n",
    "d= {i:i*i for i in range (1,number+1)}\n",
    "print(d)"
   ]
  },
  {
   "cell_type": "code",
   "execution_count": 4,
   "id": "ce18b894",
   "metadata": {},
   "outputs": [
    {
     "name": "stdout",
     "output_type": "stream",
     "text": [
      "[('item3', '24.5'), ('item2', '15.10'), ('item1', '12.20')]\n"
     ]
    }
   ],
   "source": [
    "from operator import itemgetter \n",
    "original_tuple=[('item1', '12.20'), ('item2', '15.10'), ('item3', '24.5')]\n",
    "sorted_tuple = sorted(original_tuple , key=itemgetter (1) ,reverse=True)\n",
    "print(sorted_tuple)"
   ]
  },
  {
   "cell_type": "code",
   "execution_count": null,
   "id": "e22e3dfe",
   "metadata": {},
   "outputs": [],
   "source": []
  }
 ],
 "metadata": {
  "kernelspec": {
   "display_name": "Python 3",
   "language": "python",
   "name": "python3"
  },
  "language_info": {
   "codemirror_mode": {
    "name": "ipython",
    "version": 3
   },
   "file_extension": ".py",
   "mimetype": "text/x-python",
   "name": "python",
   "nbconvert_exporter": "python",
   "pygments_lexer": "ipython3",
   "version": "3.8.8"
  }
 },
 "nbformat": 4,
 "nbformat_minor": 5
}
