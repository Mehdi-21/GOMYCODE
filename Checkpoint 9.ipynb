{
 "cells": [
  {
   "cell_type": "code",
   "execution_count": 7,
   "id": "e51f0a7b",
   "metadata": {},
   "outputs": [
    {
     "name": "stdout",
     "output_type": "stream",
     "text": [
      "Enter the number5\n"
     ]
    },
    {
     "data": {
      "text/plain": [
       "3"
      ]
     },
     "execution_count": 7,
     "metadata": {},
     "output_type": "execute_result"
    }
   ],
   "source": [
    "arr = [1,2,3,5,8]\n",
    "k = int(input(\"Enter the number\"))\n",
    "\n",
    "def binarySearch (arr, l, r, k):\n",
    "  \n",
    "    if r >= l:\n",
    "  \n",
    "        mid = l + (r - l) // 2\n",
    "  \n",
    "        if arr[mid] == k:\n",
    "            return mid\n",
    "          \n",
    "        elif arr[mid] > k:\n",
    "            return binarySearch(arr, l, mid-1, k)\n",
    "  \n",
    "        else:\n",
    "            return binarySearch(arr, mid + 1, r, k)\n",
    "  \n",
    "    else:\n",
    "       \n",
    "        return -1\n",
    "\n",
    "binarySearch(arr, 0, len(arr)-1, k)"
   ]
  },
  {
   "cell_type": "code",
   "execution_count": 12,
   "id": "f6679f31",
   "metadata": {},
   "outputs": [
    {
     "name": "stdout",
     "output_type": "stream",
     "text": [
      "Enter then number5\n",
      "Enter the power2\n",
      "25\n"
     ]
    }
   ],
   "source": [
    "N = int(input(\"Enter then number\"))\n",
    "P = int(input(\"Enter the power\"))\n",
    "def power(N, P):\n",
    "    \n",
    "    if P == 0:\n",
    "        return 1\n",
    "\n",
    "    elif P == 1:\n",
    "        return N\n",
    "      \n",
    "    else:\n",
    "        return (N*power(N, P-1))\n",
    "  \n",
    "print(power(N, P))"
   ]
  },
  {
   "cell_type": "code",
   "execution_count": 13,
   "id": "f66da147",
   "metadata": {},
   "outputs": [
    {
     "name": "stdout",
     "output_type": "stream",
     "text": [
      "[13, 22, 29, 37, 46, 49, 52, 56, 71]\n"
     ]
    }
   ],
   "source": [
    "def bubbleSort( sort ):\n",
    "    n = len( sort )\n",
    "\n",
    "    for i in range( n - 1 ) :\n",
    "        flag = 0\n",
    "\n",
    "        for j in range(n - 1) :\n",
    "            \n",
    "            if sort[j] > sort[j + 1] : \n",
    "                temp = sort[j]\n",
    "                sort[j] = sort[j + 1]\n",
    "                sort[j + 1] = temp\n",
    "                flag = 1\n",
    "\n",
    "        if flag == 0:\n",
    "            break\n",
    "\n",
    "    return sort\n",
    "\n",
    "list = [29,13,22,37,52,49,46,71,56]\n",
    "\n",
    "result = bubbleSort(list)\n",
    "\n",
    "print (result)"
   ]
  },
  {
   "cell_type": "code",
   "execution_count": 16,
   "id": "ad34f03a",
   "metadata": {},
   "outputs": [
    {
     "name": "stdout",
     "output_type": "stream",
     "text": [
      "[13, 22, 29, 37, 46, 49, 52, 56, 71]\n"
     ]
    }
   ],
   "source": [
    "def mergeSort(myList):\n",
    "    if len(myList) > 1:\n",
    "        mid = len(myList) // 2\n",
    "        left = myList[:mid]\n",
    "        right = myList[mid:]\n",
    "\n",
    "        mergeSort(left)\n",
    "        mergeSort(right)\n",
    "\n",
    "        i = 0\n",
    "        j = 0\n",
    "        \n",
    "        k = 0\n",
    "        \n",
    "        while i < len(left) and j < len(right):\n",
    "            if left[i] <= right[j]:\n",
    "                myList[k] = left[i]\n",
    "                i += 1\n",
    "            else:\n",
    "                myList[k] = right[j]\n",
    "                j += 1\n",
    "\n",
    "            k += 1\n",
    "\n",
    "        while i < len(left):\n",
    "            myList[k] = left[i]\n",
    "            i += 1\n",
    "            k += 1\n",
    "\n",
    "        while j < len(right):\n",
    "            myList[k]=right[j]\n",
    "            j += 1\n",
    "            k += 1\n",
    "\n",
    "myList = [29,13,22,37,52,49,46,71,56]\n",
    "mergeSort(myList)\n",
    "print(myList)"
   ]
  },
  {
   "cell_type": "code",
   "execution_count": 18,
   "id": "e296b7ed",
   "metadata": {},
   "outputs": [
    {
     "name": "stdout",
     "output_type": "stream",
     "text": [
      "Original Array:  [29, 13, 22, 37, 52, 49, 46, 71, 56]\n",
      "Sorted Array:  [13, 22, 29, 37, 46, 49, 52, 56, 71]\n"
     ]
    }
   ],
   "source": [
    "def QuickSort(arr):\n",
    "\n",
    "    elements = len(arr)\n",
    "    \n",
    "    if elements < 2:\n",
    "        return arr\n",
    "    \n",
    "    current_position = 0 \n",
    "\n",
    "    for i in range(1, elements): \n",
    "         if arr[i] <= arr[0]:\n",
    "              current_position += 1\n",
    "              temp = arr[i]\n",
    "              arr[i] = arr[current_position]\n",
    "              arr[current_position] = temp\n",
    "\n",
    "    temp = arr[0]\n",
    "    arr[0] = arr[current_position] \n",
    "    arr[current_position] = temp\n",
    "    \n",
    "    left = QuickSort(arr[0:current_position]) \n",
    "    right = QuickSort(arr[current_position+1:elements]) \n",
    "\n",
    "    arr = left + [arr[current_position]] + right \n",
    "    \n",
    "    return arr\n",
    "\n",
    "\n",
    "\n",
    "array_to_be_sorted = [29,13,22,37,52,49,46,71,56]\n",
    "print(\"Original Array: \",array_to_be_sorted)\n",
    "print(\"Sorted Array: \",QuickSort(array_to_be_sorted))"
   ]
  },
  {
   "cell_type": "code",
   "execution_count": null,
   "id": "59227ac0",
   "metadata": {},
   "outputs": [],
   "source": []
  }
 ],
 "metadata": {
  "kernelspec": {
   "display_name": "Python 3",
   "language": "python",
   "name": "python3"
  },
  "language_info": {
   "codemirror_mode": {
    "name": "ipython",
    "version": 3
   },
   "file_extension": ".py",
   "mimetype": "text/x-python",
   "name": "python",
   "nbconvert_exporter": "python",
   "pygments_lexer": "ipython3",
   "version": "3.8.8"
  }
 },
 "nbformat": 4,
 "nbformat_minor": 5
}
