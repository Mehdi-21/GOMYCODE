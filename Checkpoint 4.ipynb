{
 "cells": [
  {
   "cell_type": "code",
   "execution_count": 1,
   "id": "f1d35e4e",
   "metadata": {},
   "outputs": [
    {
     "name": "stdout",
     "output_type": "stream",
     "text": [
      "Type the first Number20\n",
      "Type the second Number35\n",
      "Type the third Number19\n",
      "35\n"
     ]
    }
   ],
   "source": [
    "a = input(\"Type the first Number\")\n",
    "b = input(\"Type the second Number\")\n",
    "c = input(\"Type the third Number\")\n",
    "def maximum (a,b,c):\n",
    "    if a<b and c<b:\n",
    "        return (b)\n",
    "    elif b<a and c<a:\n",
    "        return (a)\n",
    "    elif b<c and a<c:\n",
    "        return (c)\n",
    "y=maximum(a,b,c)\n",
    "print(y)"
   ]
  },
  {
   "cell_type": "code",
   "execution_count": 2,
   "id": "f58708bb",
   "metadata": {},
   "outputs": [
    {
     "name": "stdout",
     "output_type": "stream",
     "text": [
      "Type the first number40\n",
      "Type the second number10\n",
      "(50, 30)\n"
     ]
    }
   ],
   "source": [
    "def function(a,b):\n",
    "    x = int(a)\n",
    "    y = int(b)\n",
    "    return x+y,x-y\n",
    "\n",
    "w= input(\"Type the first number\")\n",
    "v= input(\"Type the second number\")\n",
    "s=function(w,v)\n",
    "print(s)"
   ]
  },
  {
   "cell_type": "code",
   "execution_count": 18,
   "id": "b8f04be6",
   "metadata": {},
   "outputs": [
    {
     "name": "stdout",
     "output_type": "stream",
     "text": [
      "Enter the list items : 1 2 3 4 5 6 7 8\n",
      "sum is : 36\n",
      "Enter the list items : 1 2 3 4 5 6 7 8\n",
      "sum is : 40320\n",
      "Enter the list items : 1 2 3 4 5 6 7 8\n",
      "sum of even numbers : 36\n",
      "product of odd numbers : 384\n"
     ]
    }
   ],
   "source": [
    "list1 = input(\"Enter the list items : \").split()\n",
    "\n",
    "def cal(list1):\n",
    "\n",
    "    s=0\n",
    "    for i in list1:\n",
    "        s=s + int(i)\n",
    "    return s\n",
    "\n",
    "r = cal(list1)\n",
    "print(\"sum is :\",r)\n",
    "\n",
    "list2 = input(\"Enter the list items : \").split() \n",
    " \n",
    "def cal2(list2):\n",
    "    d=1\n",
    "    for i in list2:\n",
    "        d = d * int(i)\n",
    "    return d\n",
    "f = cal2(list2)\n",
    "print(\"sum is :\",f)\n",
    "l1=[]\n",
    "l2=[]\n",
    "list3 = input(\"Enter the list items : \").split()\n",
    "def cal3(list3):\n",
    "    for i in range (0,len(list3),2):\n",
    "        l1.append(list3[i])\n",
    "x=cal(list3)\n",
    "print(\"sum of even numbers :\",x)\n",
    "for i in range (1,len(list3),2):\n",
    "    l2.append(list3[i])\n",
    "    y=cal2(l2)\n",
    "print(\"product of odd numbers :\",y)"
   ]
  },
  {
   "cell_type": "code",
   "execution_count": 3,
   "id": "15bd9411",
   "metadata": {},
   "outputs": [
    {
     "name": "stdout",
     "output_type": "stream",
     "text": [
      "green-red-yellow-black-white\n",
      "black-green-red-white-yellow\n"
     ]
    }
   ],
   "source": [
    "items=[n for n in input().split('-')]\n",
    "items.sort()\n",
    "print('-'.join(items))"
   ]
  },
  {
   "cell_type": "code",
   "execution_count": 4,
   "id": "f8c96c61",
   "metadata": {},
   "outputs": [
    {
     "name": "stdout",
     "output_type": "stream",
     "text": [
      "Type the number120,40,180\n",
      "[20, 11, 24]\n"
     ]
    }
   ],
   "source": [
    "import math\n",
    "D= input(\"Type the number\").split(',')\n",
    "C= 50\n",
    "H= 30\n",
    "Q=()\n",
    "def calculation(Q,C,D,H):\n",
    "    lis=[]\n",
    "    for n in D:\n",
    "        Q= int(math.sqrt(2*C*int(n)/H))\n",
    "        lis.append(Q)\n",
    "    return lis\n",
    "\n",
    "lis=calculation(Q,C,D,H)\n",
    "print(lis)"
   ]
  },
  {
   "cell_type": "code",
   "execution_count": null,
   "id": "147b8cd1",
   "metadata": {},
   "outputs": [],
   "source": []
  }
 ],
 "metadata": {
  "kernelspec": {
   "display_name": "Python 3",
   "language": "python",
   "name": "python3"
  },
  "language_info": {
   "codemirror_mode": {
    "name": "ipython",
    "version": 3
   },
   "file_extension": ".py",
   "mimetype": "text/x-python",
   "name": "python",
   "nbconvert_exporter": "python",
   "pygments_lexer": "ipython3",
   "version": "3.8.8"
  }
 },
 "nbformat": 4,
 "nbformat_minor": 5
}
